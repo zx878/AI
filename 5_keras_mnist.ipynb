{
  "nbformat": 4,
  "nbformat_minor": 0,
  "metadata": {
    "colab": {
      "provenance": [],
      "authorship_tag": "ABX9TyNr9YnbePx6PDzSQJmqqaUK",
      "include_colab_link": true
    },
    "kernelspec": {
      "name": "python3",
      "display_name": "Python 3"
    },
    "language_info": {
      "name": "python"
    },
    "accelerator": "GPU",
    "gpuClass": "standard"
  },
  "cells": [
    {
      "cell_type": "markdown",
      "metadata": {
        "id": "view-in-github",
        "colab_type": "text"
      },
      "source": [
        "<a href=\"https://colab.research.google.com/github/zx878/AI/blob/main/5_keras_mnist.ipynb\" target=\"_parent\"><img src=\"https://colab.research.google.com/assets/colab-badge.svg\" alt=\"Open In Colab\"/></a>"
      ]
    },
    {
      "cell_type": "code",
      "execution_count": 1,
      "metadata": {
        "id": "fRg92FJJnSZw"
      },
      "outputs": [],
      "source": [
        "# 引入必要套件\n",
        "from tensorflow import keras\n",
        "from keras.models import Sequential\n",
        "from keras.layers import Dense, Flatten\n",
        "model=Sequential()# 建立一個全連接神經網路模型\n",
        "model.add(Flatten()) #添加拉平層，將二維的輸入資料展平為一維的向量\n",
        "model.add(Dense(32, activation='relu', input_dim=784)) # 添加一個32個神經元，使用ReLU，輸入為784的向量\n",
        "model.add(Dense(10, activation='sigmoid'))# 添加一個10個神經元的輸出層，使用sigmoid\n",
        "# 編譯模型，設定優化器、損失函數和評估指標\n",
        "model.compile(optimizer='rmsprop', loss='sparse_categorical_crossentropy', metrics=['accuracy'])"
      ]
    },
    {
      "cell_type": "code",
      "source": [
        "#載入MNIST 數據集，並將數據集分為訓練集和測試集\n",
        "mnist=keras.datasets.mnist\n",
        "(train_data, train_label), (test_data, test_label) = mnist.load_data()"
      ],
      "metadata": {
        "colab": {
          "base_uri": "https://localhost:8080/"
        },
        "id": "IFVjGeo0nTDr",
        "outputId": "74cb0129-dccf-4f05-8c0c-cc7db85aa60d"
      },
      "execution_count": 2,
      "outputs": [
        {
          "output_type": "stream",
          "name": "stdout",
          "text": [
            "Downloading data from https://storage.googleapis.com/tensorflow/tf-keras-datasets/mnist.npz\n",
            "11490434/11490434 [==============================] - 1s 0us/step\n"
          ]
        }
      ]
    },
    {
      "cell_type": "code",
      "source": [
        "# 檢查 MNIST 數據集的形狀和類型\n",
        "print(type(train_data))  # 訓練集輸入資料的類型\n",
        "print(train_data.shape)  # 訓練集輸入資料的形狀\n",
        "print(type(train_label))  # 訓練集標籤的類型\n",
        "print(train_label.shape)  # 訓練集標籤的形狀\n",
        "print(test_data.shape)  # 測試集輸入資料的形狀\n",
        "print(test_label.shape)  # 測試集標籤的形狀"
      ],
      "metadata": {
        "colab": {
          "base_uri": "https://localhost:8080/"
        },
        "id": "P9mk23ETnVJx",
        "outputId": "4b361279-a14f-41ae-9f24-964b33b445b5"
      },
      "execution_count": 3,
      "outputs": [
        {
          "output_type": "stream",
          "name": "stdout",
          "text": [
            "<class 'numpy.ndarray'>\n",
            "(60000, 28, 28)\n",
            "<class 'numpy.ndarray'>\n",
            "(60000,)\n",
            "(10000, 28, 28)\n",
            "(10000,)\n"
          ]
        }
      ]
    },
    {
      "cell_type": "code",
      "source": [
        "# 輸出 MNIST 數據集中的第一張圖像和其對應的標籤\n",
        "print(train_label[0])  #第一張圖像的標籤\n",
        "print(train_data[0]) "
      ],
      "metadata": {
        "colab": {
          "base_uri": "https://localhost:8080/"
        },
        "id": "XhKtqi7hnW-I",
        "outputId": "ba8749e1-ac22-4f7e-8350-646773594ee4"
      },
      "execution_count": 4,
      "outputs": [
        {
          "output_type": "stream",
          "name": "stdout",
          "text": [
            "5\n",
            "[[  0   0   0   0   0   0   0   0   0   0   0   0   0   0   0   0   0   0\n",
            "    0   0   0   0   0   0   0   0   0   0]\n",
            " [  0   0   0   0   0   0   0   0   0   0   0   0   0   0   0   0   0   0\n",
            "    0   0   0   0   0   0   0   0   0   0]\n",
            " [  0   0   0   0   0   0   0   0   0   0   0   0   0   0   0   0   0   0\n",
            "    0   0   0   0   0   0   0   0   0   0]\n",
            " [  0   0   0   0   0   0   0   0   0   0   0   0   0   0   0   0   0   0\n",
            "    0   0   0   0   0   0   0   0   0   0]\n",
            " [  0   0   0   0   0   0   0   0   0   0   0   0   0   0   0   0   0   0\n",
            "    0   0   0   0   0   0   0   0   0   0]\n",
            " [  0   0   0   0   0   0   0   0   0   0   0   0   3  18  18  18 126 136\n",
            "  175  26 166 255 247 127   0   0   0   0]\n",
            " [  0   0   0   0   0   0   0   0  30  36  94 154 170 253 253 253 253 253\n",
            "  225 172 253 242 195  64   0   0   0   0]\n",
            " [  0   0   0   0   0   0   0  49 238 253 253 253 253 253 253 253 253 251\n",
            "   93  82  82  56  39   0   0   0   0   0]\n",
            " [  0   0   0   0   0   0   0  18 219 253 253 253 253 253 198 182 247 241\n",
            "    0   0   0   0   0   0   0   0   0   0]\n",
            " [  0   0   0   0   0   0   0   0  80 156 107 253 253 205  11   0  43 154\n",
            "    0   0   0   0   0   0   0   0   0   0]\n",
            " [  0   0   0   0   0   0   0   0   0  14   1 154 253  90   0   0   0   0\n",
            "    0   0   0   0   0   0   0   0   0   0]\n",
            " [  0   0   0   0   0   0   0   0   0   0   0 139 253 190   2   0   0   0\n",
            "    0   0   0   0   0   0   0   0   0   0]\n",
            " [  0   0   0   0   0   0   0   0   0   0   0  11 190 253  70   0   0   0\n",
            "    0   0   0   0   0   0   0   0   0   0]\n",
            " [  0   0   0   0   0   0   0   0   0   0   0   0  35 241 225 160 108   1\n",
            "    0   0   0   0   0   0   0   0   0   0]\n",
            " [  0   0   0   0   0   0   0   0   0   0   0   0   0  81 240 253 253 119\n",
            "   25   0   0   0   0   0   0   0   0   0]\n",
            " [  0   0   0   0   0   0   0   0   0   0   0   0   0   0  45 186 253 253\n",
            "  150  27   0   0   0   0   0   0   0   0]\n",
            " [  0   0   0   0   0   0   0   0   0   0   0   0   0   0   0  16  93 252\n",
            "  253 187   0   0   0   0   0   0   0   0]\n",
            " [  0   0   0   0   0   0   0   0   0   0   0   0   0   0   0   0   0 249\n",
            "  253 249  64   0   0   0   0   0   0   0]\n",
            " [  0   0   0   0   0   0   0   0   0   0   0   0   0   0  46 130 183 253\n",
            "  253 207   2   0   0   0   0   0   0   0]\n",
            " [  0   0   0   0   0   0   0   0   0   0   0   0  39 148 229 253 253 253\n",
            "  250 182   0   0   0   0   0   0   0   0]\n",
            " [  0   0   0   0   0   0   0   0   0   0  24 114 221 253 253 253 253 201\n",
            "   78   0   0   0   0   0   0   0   0   0]\n",
            " [  0   0   0   0   0   0   0   0  23  66 213 253 253 253 253 198  81   2\n",
            "    0   0   0   0   0   0   0   0   0   0]\n",
            " [  0   0   0   0   0   0  18 171 219 253 253 253 253 195  80   9   0   0\n",
            "    0   0   0   0   0   0   0   0   0   0]\n",
            " [  0   0   0   0  55 172 226 253 253 253 253 244 133  11   0   0   0   0\n",
            "    0   0   0   0   0   0   0   0   0   0]\n",
            " [  0   0   0   0 136 253 253 253 212 135 132  16   0   0   0   0   0   0\n",
            "    0   0   0   0   0   0   0   0   0   0]\n",
            " [  0   0   0   0   0   0   0   0   0   0   0   0   0   0   0   0   0   0\n",
            "    0   0   0   0   0   0   0   0   0   0]\n",
            " [  0   0   0   0   0   0   0   0   0   0   0   0   0   0   0   0   0   0\n",
            "    0   0   0   0   0   0   0   0   0   0]\n",
            " [  0   0   0   0   0   0   0   0   0   0   0   0   0   0   0   0   0   0\n",
            "    0   0   0   0   0   0   0   0   0   0]]\n"
          ]
        }
      ]
    },
    {
      "cell_type": "code",
      "source": [
        "# 顯示 MNIST 數據集中的第一張圖像\n",
        "import matplotlib.pyplot as plt\n",
        "plt.imshow(train_data[0], cmap='binary')\n",
        "plt.show()"
      ],
      "metadata": {
        "colab": {
          "base_uri": "https://localhost:8080/",
          "height": 430
        },
        "id": "Wj3TPyiIncDY",
        "outputId": "7dcb4109-a018-4d7b-80cd-85cf3dcfcd5f"
      },
      "execution_count": 5,
      "outputs": [
        {
          "output_type": "display_data",
          "data": {
            "text/plain": [
              "<Figure size 640x480 with 1 Axes>"
            ],
            "image/png": "[encoded data removed]"
          },
          "metadata": {}
        }
      ]
    },
    {
      "cell_type": "code",
      "source": [
        "# 訓練模型\n",
        "model.fit(train_data,train_label,epochs=20,batch_size=512)#訓練20次 樣本數512"
      ],
      "metadata": {
        "colab": {
          "base_uri": "https://localhost:8080/"
        },
        "id": "OfGbH5v4neJ4",
        "outputId": "41aa6c9e-be4f-4c44-ef1b-011f0b84ccd1"
      },
      "execution_count": 6,
      "outputs": [
        {
          "output_type": "stream",
          "name": "stdout",
          "text": [
            "Epoch 1/20\n",
            "118/118 [==============================] - 6s 3ms/step - loss: 7.4833 - accuracy: 0.5854\n",
            "Epoch 2/20\n",
            "118/118 [==============================] - 0s 3ms/step - loss: 0.9204 - accuracy: 0.7742\n",
            "Epoch 3/20\n",
            "118/118 [==============================] - 0s 3ms/step - loss: 0.6571 - accuracy: 0.8437\n",
            "Epoch 4/20\n",
            "118/118 [==============================] - 0s 3ms/step - loss: 0.5131 - accuracy: 0.8741\n",
            "Epoch 5/20\n",
            "118/118 [==============================] - 0s 3ms/step - loss: 0.4278 - accuracy: 0.8932\n",
            "Epoch 6/20\n",
            "118/118 [==============================] - 0s 3ms/step - loss: 0.3648 - accuracy: 0.9056\n",
            "Epoch 7/20\n",
            "118/118 [==============================] - 0s 3ms/step - loss: 0.3193 - accuracy: 0.9154\n",
            "Epoch 8/20\n",
            "118/118 [==============================] - 0s 3ms/step - loss: 0.2875 - accuracy: 0.9240\n",
            "Epoch 9/20\n",
            "118/118 [==============================] - 0s 3ms/step - loss: 0.2612 - accuracy: 0.9293\n",
            "Epoch 10/20\n",
            "118/118 [==============================] - 0s 3ms/step - loss: 0.2433 - accuracy: 0.9330\n",
            "Epoch 11/20\n",
            "118/118 [==============================] - 0s 3ms/step - loss: 0.2283 - accuracy: 0.9368\n",
            "Epoch 12/20\n",
            "118/118 [==============================] - 0s 3ms/step - loss: 0.2153 - accuracy: 0.9403\n",
            "Epoch 13/20\n",
            "118/118 [==============================] - 0s 3ms/step - loss: 0.2020 - accuracy: 0.9431\n",
            "Epoch 14/20\n",
            "118/118 [==============================] - 0s 3ms/step - loss: 0.1935 - accuracy: 0.9459\n",
            "Epoch 15/20\n",
            "118/118 [==============================] - 0s 3ms/step - loss: 0.1843 - accuracy: 0.9473\n",
            "Epoch 16/20\n",
            "118/118 [==============================] - 0s 3ms/step - loss: 0.1798 - accuracy: 0.9489\n",
            "Epoch 17/20\n",
            "118/118 [==============================] - 0s 3ms/step - loss: 0.1712 - accuracy: 0.9523\n",
            "Epoch 18/20\n",
            "118/118 [==============================] - 0s 3ms/step - loss: 0.1651 - accuracy: 0.9530\n",
            "Epoch 19/20\n",
            "118/118 [==============================] - 0s 3ms/step - loss: 0.1607 - accuracy: 0.9548\n",
            "Epoch 20/20\n",
            "118/118 [==============================] - 0s 3ms/step - loss: 0.1558 - accuracy: 0.9555\n"
          ]
        },
        {
          "output_type": "execute_result",
          "data": {
            "text/plain": [
              "<keras.callbacks.History at 0x7fbeea696c70>"
            ]
          },
          "metadata": {},
          "execution_count": 6
        }
      ]
    },
    {
      "cell_type": "code",
      "source": [
        "# 測試模型的準確率\n",
        "score=model.evaluate(test_data, test_label)\n",
        "print(score[1])"
      ],
      "metadata": {
        "colab": {
          "base_uri": "https://localhost:8080/"
        },
        "id": "adpqMTKOniP4",
        "outputId": "e39cc0c2-4f2b-4d78-c8a3-f59fdcebcb31"
      },
      "execution_count": 7,
      "outputs": [
        {
          "output_type": "stream",
          "name": "stdout",
          "text": [
            "313/313 [==============================] - 1s 2ms/step - loss: 0.3027 - accuracy: 0.9323\n",
            "0.9322999715805054\n"
          ]
        }
      ]
    }
  ]
}