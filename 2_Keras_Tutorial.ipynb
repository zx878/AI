{
  "nbformat": 4,
  "nbformat_minor": 0,
  "metadata": {
    "colab": {
      "provenance": [],
      "authorship_tag": "ABX9TyOr4GqNxwA1DtLyD4riUN+v",
      "include_colab_link": true
    },
    "kernelspec": {
      "name": "python3",
      "display_name": "Python 3"
    },
    "language_info": {
      "name": "python"
    },
    "accelerator": "GPU",
    "gpuClass": "standard"
  },
  "cells": [
    {
      "cell_type": "markdown",
      "metadata": {
        "id": "view-in-github",
        "colab_type": "text"
      },
      "source": [
        "<a href=\"https://colab.research.google.com/github/zx878/AI/blob/main/2_Keras_Tutorial.ipynb\" target=\"_parent\"><img src=\"https://colab.research.google.com/assets/colab-badge.svg\" alt=\"Open In Colab\"/></a>"
      ]
    },
    {
      "cell_type": "code",
      "execution_count": 1,
      "metadata": {
        "colab": {
          "base_uri": "https://localhost:8080/"
        },
        "id": "4mMO4YQ7ViXJ",
        "outputId": "69589c24-8911-4734-c806-529bd0f7c4be"
      },
      "outputs": [
        {
          "output_type": "stream",
          "name": "stdout",
          "text": [
            "(1000, 10)\n",
            "[0.4997051  0.40523922 0.23377612 0.22216747 0.85942462 0.54930325\n",
            " 0.21490095 0.91197906 0.13616223 0.05439604]\n",
            "(1000, 1)\n",
            "[1]\n",
            "Epoch 1/10\n",
            "32/32 [==============================] - 5s 3ms/step - loss: 0.7003 - accuracy: 0.4850\n",
            "Epoch 2/10\n",
            "32/32 [==============================] - 0s 3ms/step - loss: 0.6968 - accuracy: 0.5070\n",
            "Epoch 3/10\n",
            "32/32 [==============================] - 0s 3ms/step - loss: 0.6956 - accuracy: 0.4950\n",
            "Epoch 4/10\n",
            "32/32 [==============================] - 0s 3ms/step - loss: 0.6946 - accuracy: 0.5040\n",
            "Epoch 5/10\n",
            "32/32 [==============================] - 0s 3ms/step - loss: 0.6937 - accuracy: 0.5220\n",
            "Epoch 6/10\n",
            "32/32 [==============================] - 0s 3ms/step - loss: 0.6931 - accuracy: 0.5250\n",
            "Epoch 7/10\n",
            "32/32 [==============================] - 0s 3ms/step - loss: 0.6929 - accuracy: 0.5280\n",
            "Epoch 8/10\n",
            "32/32 [==============================] - 0s 3ms/step - loss: 0.6916 - accuracy: 0.5290\n",
            "Epoch 9/10\n",
            "32/32 [==============================] - 0s 3ms/step - loss: 0.6908 - accuracy: 0.5350\n",
            "Epoch 10/10\n",
            "32/32 [==============================] - 0s 3ms/step - loss: 0.6904 - accuracy: 0.5310\n",
            "32/32 [==============================] - 0s 2ms/step - loss: 0.6891 - accuracy: 0.5380\n",
            "0.5379999876022339\n"
          ]
        }
      ],
      "source": [
        "# 模型宣告 引入必要的模組\n",
        "from tensorflow import keras # 引入 keras 模組 \n",
        "from keras.models import Sequential # 引入 Sequential 模組 \n",
        "from keras.layers import Dense # 引入 Dense 模組 \n",
        "\n",
        "import numpy as np #引入 numpy 模組 命為np\n",
        "data = np.random.random((1000, 10)) #隨機產生1000筆資料，每筆資料包含十個float數字\n",
        "labels = np.random.randint(2, size=(1000, 1)) #隨機產生1000筆資料，每筆資料上限為2(意思就是0 或 1)\n",
        "# 輸出data資料及第一筆資料\n",
        "print(np.shape(data)) \n",
        "print(data[0]) \n",
        "# 輸出labels資料及第一筆資料\n",
        "print(np.shape(labels)) \n",
        "print(labels[0])\n",
        "\n",
        "# 宣告模型\n",
        "model = Sequential()\n",
        "# 加入一層有32個神經元，啟動函數為 relu，輸入維度為10\n",
        "model.add(Dense(32, activation='relu', input_dim=10))\n",
        "# 加入一層有1個神經元的輸出層，啟動函數為 sigmoid\n",
        "model.add(Dense(1, activation='sigmoid'))\n",
        "# 編譯模型，選擇優化器為 rmsprop，損失函數為 binary_crossentropy，評估指標為accuracy準確率\n",
        "model.compile(optimizer='rmsprop', loss='binary_crossentropy', metrics=['accuracy'])\n",
        "# 使用訓練資料進行模型訓練，訓練次數為10次，每次訓練使用32筆資料\n",
        "model.fit(data, labels, epochs=10, batch_size=32)\n",
        "# 使用測試資料評估模型，輸出模型的準確率\n",
        "score=model.evaluate(data, labels)\n",
        "print(score[1])"
      ]
    }
  ]
}