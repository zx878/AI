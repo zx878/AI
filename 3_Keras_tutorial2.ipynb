{
  "nbformat": 4,
  "nbformat_minor": 0,
  "metadata": {
    "colab": {
      "provenance": [],
      "authorship_tag": "ABX9TyP/EBdV3UJMBRgUp9aGvIFg",
      "include_colab_link": true
    },
    "kernelspec": {
      "name": "python3",
      "display_name": "Python 3"
    },
    "language_info": {
      "name": "python"
    },
    "accelerator": "GPU",
    "gpuClass": "standard"
  },
  "cells": [
    {
      "cell_type": "markdown",
      "metadata": {
        "id": "view-in-github",
        "colab_type": "text"
      },
      "source": [
        "<a href=\"https://colab.research.google.com/github/zx878/AI/blob/main/3_Keras_tutorial2.ipynb\" target=\"_parent\"><img src=\"https://colab.research.google.com/assets/colab-badge.svg\" alt=\"Open In Colab\"/></a>"
      ]
    },
    {
      "cell_type": "code",
      "source": [
        "# 模型宣告 引入必要的模組\n",
        "from tensorflow import keras # 引入 keras 模組 \n",
        "from keras.models import Sequential # 引入 Sequential 模組 \n",
        "from keras.layers import Dense, Dropout # 引入 Dense  Dropout 模組 \n",
        "#建立 Sequential 模型\n",
        "model = Sequential()\n",
        "#加入 512 個神經元的 Dense，使用 ReLU，輸入為 784\n",
        "model.add(Dense(512, activation='relu', input_dim=784))\n",
        "model.add(Dropout(0.2)) #隨機損失 20% 的神經元，以避免過度擬合\n",
        "model.add(Dense(10, activation='softmax')) #加入 10 個神經元的 Dense 輸出層，使用 softmax\n",
        "#編譯模型，選用 Adam 優化器進行參數更新，使用損失函數進行模型評估，以accuracy準確率作為模型評估指標\n",
        "model.compile(optimizer='adam', loss='categorical_crossentropy', metrics=['accuracy']) \n",
        " \n",
        "import numpy as np #引入 numpy 模組 命為np\n",
        "data = np.random.random((1000, 784))  #產生隨機的 1000 筆資料，每筆資料包含 784 個float\n",
        "labels = np.random.randint(10, size=(1000, 10)) #產生隨機的 1000，每筆資料包含十個float數字，每筆資料上限為10\n",
        " \n",
        "model.fit(data, labels, epochs=10, batch_size=32) #訓練模型，進行 10 個 epochs 的訓練，每次使用 32 筆資料\n",
        "#使用評估資料集對模型進行測試，輸出模型的準確率\n",
        "score=model.evaluate(data, labels) \n",
        "print(score[1])"
      ],
      "metadata": {
        "colab": {
          "base_uri": "https://localhost:8080/"
        },
        "id": "DHiNW9P4fep1",
        "outputId": "27da4728-8843-442c-809b-75cb08dfffd5"
      },
      "execution_count": 2,
      "outputs": [
        {
          "output_type": "stream",
          "name": "stdout",
          "text": [
            "Epoch 1/10\n",
            "32/32 [==============================] - 1s 3ms/step - loss: 559.1609 - accuracy: 0.1470\n",
            "Epoch 2/10\n",
            "32/32 [==============================] - 0s 3ms/step - loss: 2039.2466 - accuracy: 0.1650\n",
            "Epoch 3/10\n",
            "32/32 [==============================] - 0s 3ms/step - loss: 3718.6399 - accuracy: 0.1570\n",
            "Epoch 4/10\n",
            "32/32 [==============================] - 0s 3ms/step - loss: 5716.1128 - accuracy: 0.1690\n",
            "Epoch 5/10\n",
            "32/32 [==============================] - 0s 3ms/step - loss: 7584.3779 - accuracy: 0.1520\n",
            "Epoch 6/10\n",
            "32/32 [==============================] - 0s 3ms/step - loss: 9624.3887 - accuracy: 0.1710\n",
            "Epoch 7/10\n",
            "32/32 [==============================] - 0s 3ms/step - loss: 11269.5908 - accuracy: 0.1450\n",
            "Epoch 8/10\n",
            "32/32 [==============================] - 0s 4ms/step - loss: 13298.8838 - accuracy: 0.1560\n",
            "Epoch 9/10\n",
            "32/32 [==============================] - 0s 3ms/step - loss: 14573.9922 - accuracy: 0.1490\n",
            "Epoch 10/10\n",
            "32/32 [==============================] - 0s 3ms/step - loss: 16217.4883 - accuracy: 0.1490\n",
            "32/32 [==============================] - 0s 3ms/step - loss: 16280.9395 - accuracy: 0.1620\n",
            "0.16200000047683716\n"
          ]
        }
      ]
    }
  ]
}